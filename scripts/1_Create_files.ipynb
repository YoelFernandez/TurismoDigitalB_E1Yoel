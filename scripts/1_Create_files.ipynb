{
 "cells": [
  {
   "cell_type": "markdown",
   "id": "e9523841",
   "metadata": {},
   "source": [
    "# Creacion de carpetas"
   ]
  },
  {
   "cell_type": "code",
   "execution_count": 1,
   "id": "94ab75e0",
   "metadata": {},
   "outputs": [
    {
     "name": "stdout",
     "output_type": "stream",
     "text": [
      "✅ Estructura de carpetas creada.\n"
     ]
    }
   ],
   "source": [
    "import os\n",
    "from pathlib import Path\n",
    "\n",
    "# Carpetas a crear\n",
    "carpetas = [\"data\", \"database\", \"reports\", \"ci\", \"git\", \"scripts\"]\n",
    "\n",
    "for carpeta in carpetas:\n",
    "    Path(carpeta).mkdir(exist_ok=True)\n",
    "\n",
    "print(\"✅ Estructura de carpetas creada.\")"
   ]
  }
 ],
 "metadata": {
  "kernelspec": {
   "display_name": "myenv",
   "language": "python",
   "name": "python3"
  },
  "language_info": {
   "codemirror_mode": {
    "name": "ipython",
    "version": 3
   },
   "file_extension": ".py",
   "mimetype": "text/x-python",
   "name": "python",
   "nbconvert_exporter": "python",
   "pygments_lexer": "ipython3",
   "version": "3.13.2"
  }
 },
 "nbformat": 4,
 "nbformat_minor": 5
}
