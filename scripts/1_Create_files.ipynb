{
 "cells": [
  {
   "cell_type": "markdown",
   "id": "e9523841",
   "metadata": {},
   "source": [
    "# Creacion de carpetas"
   ]
  },
  {
   "cell_type": "code",
   "execution_count": 2,
   "id": "94ab75e0",
   "metadata": {},
   "outputs": [
    {
     "name": "stdout",
     "output_type": "stream",
     "text": [
      "✅ Carpeta 'data' lista en d:\\AcutalCiclo\\Topicos en sistemas inteligentes\\TurismoDigitalB_E1Yoel\\scripts\\..\\data\n",
      "✅ Carpeta 'database' lista en d:\\AcutalCiclo\\Topicos en sistemas inteligentes\\TurismoDigitalB_E1Yoel\\scripts\\..\\database\n",
      "✅ Carpeta 'reports' lista en d:\\AcutalCiclo\\Topicos en sistemas inteligentes\\TurismoDigitalB_E1Yoel\\scripts\\..\\reports\n",
      "✅ Carpeta 'ci' lista en d:\\AcutalCiclo\\Topicos en sistemas inteligentes\\TurismoDigitalB_E1Yoel\\scripts\\..\\ci\n",
      "✅ Carpeta 'git' lista en d:\\AcutalCiclo\\Topicos en sistemas inteligentes\\TurismoDigitalB_E1Yoel\\scripts\\..\\git\n",
      "✅ Carpeta 'scripts' lista en d:\\AcutalCiclo\\Topicos en sistemas inteligentes\\TurismoDigitalB_E1Yoel\\scripts\\..\\scripts\n"
     ]
    }
   ],
   "source": [
    "from pathlib import Path\n",
    "\n",
    "# Rutas de carpetas del proyecto\n",
    "carpetas = [\"data\", \"database\", \"reports\", \"ci\", \"git\", \"scripts\"]\n",
    "    \n",
    "for carpeta in carpetas:\n",
    "    ruta = Path.cwd() / f\"../{carpeta}\"\n",
    "    ruta.mkdir(parents=True, exist_ok=True)\n",
    "    print(f\"✅ Carpeta '{carpeta}' lista en {ruta}\")"
   ]
  },
  {
   "cell_type": "code",
   "execution_count": null,
   "id": "c55e4e40",
   "metadata": {},
   "outputs": [],
   "source": []
  }
 ],
 "metadata": {
  "kernelspec": {
   "display_name": "myenv",
   "language": "python",
   "name": "python3"
  },
  "language_info": {
   "codemirror_mode": {
    "name": "ipython",
    "version": 3
   },
   "file_extension": ".py",
   "mimetype": "text/x-python",
   "name": "python",
   "nbconvert_exporter": "python",
   "pygments_lexer": "ipython3",
   "version": "3.13.2"
  }
 },
 "nbformat": 4,
 "nbformat_minor": 5
}
