{
 "cells": [
  {
   "cell_type": "markdown",
   "id": "38941df1",
   "metadata": {},
   "source": [
    "# Generar 1000 registros de visitantes"
   ]
  },
  {
   "cell_type": "code",
   "execution_count": 1,
   "id": "8389d28e",
   "metadata": {},
   "outputs": [
    {
     "name": "stdout",
     "output_type": "stream",
     "text": [
      "✅ Archivo generado correctamente en: d:\\AcutalCiclo\\Topicos en sistemas inteligentes\\TurismoDigitalB_E1Yoel\\scripts\\..\\data\\visitantes.csv\n",
      "📊 Total de registros: 3000\n"
     ]
    }
   ],
   "source": [
    "from pathlib import Path\n",
    "import csv\n",
    "import random\n",
    "from datetime import datetime, timedelta\n",
    "\n",
    "# 1️⃣ Crear carpeta \"data\" si no existe\n",
    "data_path = Path.cwd() / \"../data\"\n",
    "data_path.mkdir(parents=True, exist_ok=True)\n",
    "\n",
    "# 2️⃣ Definir archivo CSV de salida\n",
    "csv_file = data_path / \"visitantes.csv\"\n",
    "\n",
    "# 3️⃣ Listas base para datos turísticos\n",
    "paises_origen = [\"Perú\", \"Chile\", \"Colombia\", \"Estados Unidos\", \"España\", \"Brasil\", \"Argentina\", \"México\", \"NA\"]\n",
    "regiones_destinos = {\n",
    "    \"Cusco\": [\"Machu Picchu\", \"Valle Sagrado\", \"Sacsayhuamán\"],\n",
    "    \"Puno\": [\"Lago Titicaca\", \"Islas Flotantes Uros\", \"Taquile\"],\n",
    "    \"Lima\": [\"Parque de la Reserva\", \"Barranco\", \"Huaca Pucllana\"],\n",
    "    \"Arequipa\": [\"Cañón del Colca\", \"Plaza de Armas\", \"Monasterio de Santa Catalina\"],\n",
    "    \"Iquitos\": [\"Río Amazonas\", \"Reserva Nacional Pacaya Samiria\", \"Malecón Tarapacá\"]\n",
    "}\n",
    "medios_transporte = [\"Avión\", \"Bus\", \"Auto\", \"Tren\", \"Mototaxi\", \"NA\", None]\n",
    "generos = [\"M\", \"F\", \"Otro\"]\n",
    "\n",
    "# 4️⃣ Generar fecha aleatoria entre enero y septiembre de 2025\n",
    "def generar_fecha_visita():\n",
    "    inicio = datetime(2025, 1, 1)\n",
    "    fin = datetime(2025, 9, 30)  # Hasta finales de septiembre\n",
    "    delta = fin - inicio\n",
    "    fecha_random = inicio + timedelta(days=random.randint(0, delta.days))\n",
    "    return fecha_random.strftime(\"%Y-%m-%d\")\n",
    "\n",
    "# 5️⃣ Generar 3000 registros simulados\n",
    "registros = []\n",
    "for i in range(1, 3001):\n",
    "    id_visitante = f\"V{i:04d}\"\n",
    "    pais_origen = random.choice(paises_origen)\n",
    "    edad = random.randint(15, 80) if random.random() > 0.02 else None  # 2% nulos\n",
    "    genero = random.choice(generos)\n",
    "    \n",
    "    region = random.choice(list(regiones_destinos.keys()))\n",
    "    destino = random.choice(regiones_destinos[region])\n",
    "    \n",
    "    fecha_visita = generar_fecha_visita()\n",
    "    dias_estadia = random.randint(1, 14) if random.random() > 0.05 else None  # 5% nulos\n",
    "    gasto_total = round(random.uniform(200, 5000), 2) if dias_estadia is not None else None\n",
    "    medio_transporte = random.choice(medios_transporte)\n",
    "\n",
    "    registros.append([\n",
    "        id_visitante,\n",
    "        pais_origen,\n",
    "        edad,\n",
    "        genero,\n",
    "        destino,\n",
    "        region,\n",
    "        fecha_visita,\n",
    "        dias_estadia,\n",
    "        gasto_total,\n",
    "        medio_transporte\n",
    "    ])\n",
    "\n",
    "# 6️⃣ Escribir en el archivo CSV\n",
    "with open(csv_file, mode=\"w\", newline=\"\", encoding=\"utf-8\") as file:\n",
    "    writer = csv.writer(file)\n",
    "    writer.writerow([\n",
    "        \"id_visitante\", \"pais_origen\", \"edad\", \"genero\", \"destino\",\n",
    "        \"region\", \"fecha_visita\", \"dias_estadia\", \"gasto_total\", \"medio_transporte\"\n",
    "    ])\n",
    "    writer.writerows(registros)\n",
    "\n",
    "print(f\"✅ Archivo generado correctamente en: {csv_file}\")\n",
    "print(f\"📊 Total de registros: {len(registros)}\")\n"
   ]
  }
 ],
 "metadata": {
  "kernelspec": {
   "display_name": "myenv",
   "language": "python",
   "name": "python3"
  },
  "language_info": {
   "codemirror_mode": {
    "name": "ipython",
    "version": 3
   },
   "file_extension": ".py",
   "mimetype": "text/x-python",
   "name": "python",
   "nbconvert_exporter": "python",
   "pygments_lexer": "ipython3",
   "version": "3.13.2"
  }
 },
 "nbformat": 4,
 "nbformat_minor": 5
}
