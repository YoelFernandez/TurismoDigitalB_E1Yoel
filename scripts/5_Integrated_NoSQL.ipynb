{
 "cells": [
  {
   "cell_type": "code",
   "execution_count": null,
   "id": "15f92cf5",
   "metadata": {},
   "outputs": [],
   "source": [
    "import pandas as pd\n",
    "from pymongo import MongoClient\n",
    "\n",
    "client = MongoClient(\"mongodb://localhost:27017/\")\n",
    "db = client[\"Bank_2025\"]\n",
    "collection = db[\"prestamos\"]\n",
    "\n",
    "df = pd.read_csv('../database/bancos_clean.csv')\n",
    "data = df.to_dict(orient=\"records\")\n",
    "collection.insert_many(data)\n",
    "print(\"Datos insertados en MongoDB correctamente.\")\n",
    "## ✅ A. Mostrar todos los documentos\n",
    "# Imprimir cada documento completo (cada fila del CSV convertido a JSON) almacenado en la colección préstamos.\n",
    "print(\"Visualizar datos insertados en MongoDB.\")\n",
    "for doc in collection.find():\n",
    "    print(doc)\n",
    "## ✅ B. Mostrar solo los primeros registros\n",
    "# Ideal para no saturar la consola.\n",
    "for doc in collection.find({}, {\"_id\": 0, \"num_cta\": 1, \"saldo\": 1}):\n",
    "    print(doc)\n",
    "## ✅ C. Consultar solo algunos campos\n",
    "# Por ejemplo, mostrar solo el número de cuenta y saldo:\n",
    "# El parámetro {\"_id\": 0} oculta el campo _id autogenerado por MongoDB.\n",
    "# Se muestran únicamente num_cta y saldo.\n",
    "for doc in collection.find({}, {\"_id\": 0, \"Num_Cta\": 1, \"Saldo\": 1}):\n",
    "    print(doc)\n",
    "## ✅ D. Consultar con filtro (condición WHERE)\n",
    "# Por ejemplo, mostrar cuentas con saldo mayor a 10,000:\n",
    "#  $gt significa “greater than” (mayor que).\n",
    "#  También existen otros operadores: $lt, $gte, $lte, $ne, $in, etc.\n",
    "consulta = {\"saldo\": {\"$gt\": 10000}}\n",
    "for doc in collection.find(consulta, {\"_id\": 0, \"Cli_codigo\": 1, \"Saldo\": 1}):\n",
    "    print(doc)\n",
    "## ✅ E. Contar cuántos documentos hay en total\n",
    "print(\"Total de registros:\", collection.count_documents({}))\n",
    "## ✅ F. Buscar por sucursal específica\n",
    "consulta = {\"Sucursal\": \"Cajamarca\"}\n",
    "for doc in collection.find(consulta):\n",
    "    print(doc)\n",
    "## ✅ G. Consultar solo clientes con un tipo de cuenta específico\n",
    "consulta = {\"TipoCuenta\": \"CTA AHORROS SOLES\"}\n",
    "for doc in collection.find(consulta):\n",
    "    print(doc)\n"
   ]
  }
 ],
 "metadata": {
  "kernelspec": {
   "display_name": "myenv",
   "language": "python",
   "name": "python3"
  },
  "language_info": {
   "codemirror_mode": {
    "name": "ipython",
    "version": 3
   },
   "file_extension": ".py",
   "mimetype": "text/x-python",
   "name": "python",
   "nbconvert_exporter": "python",
   "pygments_lexer": "ipython3",
   "version": "3.13.2"
  }
 },
 "nbformat": 4,
 "nbformat_minor": 5
}
